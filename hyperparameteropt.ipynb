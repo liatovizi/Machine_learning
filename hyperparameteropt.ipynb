{
  "cells": [
    {
      "cell_type": "markdown",
      "metadata": {
        "id": "U_tfqXGAumQC"
      },
      "source": [
        "# **Hyperparameter optimalization**\n",
        "\n"
      ]
    },
    {
      "cell_type": "markdown",
      "metadata": {
        "id": "slcYO7NmumQF"
      },
      "source": [
        "## **1. Data preparation**"
      ]
    },
    {
      "cell_type": "code",
      "source": [
        "!pip install scikit-optimize"
      ],
      "metadata": {
        "id": "Q9MnfHhHHe12"
      },
      "execution_count": null,
      "outputs": []
    },
    {
      "cell_type": "code",
      "execution_count": 3,
      "metadata": {
        "id": "WK1W3rZMumQG"
      },
      "outputs": [],
      "source": [
        "import pandas as pd\n",
        "import numpy as np\n",
        "\n",
        "from sklearn.model_selection import train_test_split\n",
        "\n",
        "from sklearn.tree import DecisionTreeClassifier\n",
        "from sklearn.ensemble import RandomForestClassifier\n",
        "from sklearn.neural_network import MLPClassifier\n",
        "\n",
        "from sklearn.metrics import classification_report\n",
        "from sklearn.metrics import roc_auc_score\n",
        "from sklearn.metrics import f1_score\n",
        "from sklearn.metrics import accuracy_score\n",
        "\n",
        "from sklearn.model_selection import RandomizedSearchCV\n",
        "from sklearn.model_selection import GridSearchCV\n",
        "from skopt import BayesSearchCV\n",
        "\n",
        "import warnings\n",
        "warnings.filterwarnings(\"ignore\", category=FutureWarning)"
      ]
    },
    {
      "cell_type": "code",
      "source": [
        "from google.colab import drive\n",
        "drive.mount('/content/drive')"
      ],
      "metadata": {
        "colab": {
          "base_uri": "https://localhost:8080/"
        },
        "id": "8zLlfPUOatJx",
        "outputId": "b8c392c1-3f6d-4e22-c079-3a643fc8bf66"
      },
      "execution_count": 4,
      "outputs": [
        {
          "output_type": "stream",
          "name": "stdout",
          "text": [
            "Mounted at /content/drive\n"
          ]
        }
      ]
    },
    {
      "cell_type": "code",
      "execution_count": 5,
      "metadata": {
        "id": "TQBx4Ay0umQG"
      },
      "outputs": [],
      "source": [
        "titanic = pd.read_excel('/content/drive/MyDrive/datasets/Titanic.xlsx')\n",
        "\n",
        "titanic.drop(labels='Name', axis=1, inplace=True)\n",
        "\n",
        "titanic['Sex'] = pd.get_dummies(titanic['Sex'], drop_first=True)\n",
        "\n",
        "X = titanic.iloc[:, 1:].values\n",
        "y = titanic.iloc[:, 0].values.reshape(-1,1)\n",
        "\n",
        "X_train, X_test, y_train, y_test = train_test_split(X, y, test_size=0.33, stratify=y)"
      ]
    },
    {
      "cell_type": "markdown",
      "metadata": {
        "id": "ezUQXmg6umQJ"
      },
      "source": [
        "## **Decision tree**"
      ]
    },
    {
      "cell_type": "code",
      "execution_count": 6,
      "metadata": {
        "id": "W60pKB8qumQL",
        "colab": {
          "base_uri": "https://localhost:8080/"
        },
        "outputId": "23e16b8d-96c9-42c2-9f92-32bf990737dc"
      },
      "outputs": [
        {
          "output_type": "stream",
          "name": "stdout",
          "text": [
            "Accuracy: 0.7474402730375427\n"
          ]
        }
      ],
      "source": [
        "clf_dtree = DecisionTreeClassifier(random_state=0)\n",
        "\n",
        "clf_dtree = clf_dtree.fit(X_train,y_train)\n",
        "y_pred_dtree = clf_dtree.predict(X_test)\n",
        "\n",
        "print(\"Accuracy:\",accuracy_score(y_test, y_pred_dtree))"
      ]
    },
    {
      "cell_type": "markdown",
      "metadata": {
        "id": "0lFaO4NefRnd"
      },
      "source": [
        "### **Hyperparameter optimalization with GridSearchCV**"
      ]
    },
    {
      "cell_type": "code",
      "execution_count": 7,
      "metadata": {
        "scrolled": true,
        "id": "a7--bCAMfRne",
        "colab": {
          "base_uri": "https://localhost:8080/"
        },
        "outputId": "44d0cbbb-82b1-42aa-cf37-bb3ebabe8f16"
      },
      "outputs": [
        {
          "output_type": "stream",
          "name": "stdout",
          "text": [
            "{'criterion': 'entropy', 'max_depth': 6, 'min_samples_leaf': 8, 'min_samples_split': 2}\n",
            "0.8451217775245692\n"
          ]
        }
      ],
      "source": [
        "# based on accuracy\n",
        "\n",
        "clf = DecisionTreeClassifier(random_state=0)\n",
        "params = {\n",
        "    'criterion': ['gini', 'entropy'],\n",
        "    'max_depth' : range(1,8),\n",
        "    'min_samples_split': range(2,10),\n",
        "    'min_samples_leaf': range(1,10)\n",
        "}\n",
        "\n",
        "gridsearch = GridSearchCV(\n",
        "    estimator = clf,\n",
        "    param_grid = params,\n",
        "    scoring = 'accuracy',\n",
        "    cv = 5,\n",
        "    n_jobs = -1,\n",
        "    verbose = 0\n",
        ")\n",
        "\n",
        "grid_results = gridsearch.fit(X_train, y_train)\n",
        "\n",
        "print(grid_results.best_params_)\n",
        "print(grid_results.best_score_)"
      ]
    },
    {
      "cell_type": "markdown",
      "metadata": {
        "id": "SA1WWfBHfRnf"
      },
      "source": [
        "Best model on the test data set"
      ]
    },
    {
      "cell_type": "code",
      "execution_count": 8,
      "metadata": {
        "id": "wkLD7RL7fRng",
        "colab": {
          "base_uri": "https://localhost:8080/"
        },
        "outputId": "2145fac2-1189-4853-f565-e13a850947ab"
      },
      "outputs": [
        {
          "output_type": "stream",
          "name": "stdout",
          "text": [
            "Accuracy: 0.7918088737201365\n"
          ]
        }
      ],
      "source": [
        "y_test_pred_GS = grid_results.best_estimator_.predict(X_test)\n",
        "print(\"Accuracy:\",accuracy_score(y_test, y_test_pred_GS))"
      ]
    },
    {
      "cell_type": "markdown",
      "metadata": {
        "id": "kdJK-XjuumQT"
      },
      "source": [
        " **Random Forest**"
      ]
    },
    {
      "cell_type": "markdown",
      "metadata": {
        "id": "h1ZoIQPzumQT"
      },
      "source": [
        "Creating a Random Forest classifier and fitting the model with default parameters"
      ]
    },
    {
      "cell_type": "code",
      "execution_count": 9,
      "metadata": {
        "id": "FisFx2nyumQT",
        "colab": {
          "base_uri": "https://localhost:8080/"
        },
        "outputId": "ec2dfc59-e4c5-46e0-d08d-19bc266b1056"
      },
      "outputs": [
        {
          "output_type": "stream",
          "name": "stdout",
          "text": [
            "Accuracy: 0.8088737201365188\n"
          ]
        }
      ],
      "source": [
        "clf_randomforest = RandomForestClassifier(random_state=0)\n",
        "\n",
        "clf_randomforest = clf_randomforest.fit(X_train, y_train.ravel())\n",
        "\n",
        "print(\"Accuracy:\", clf_randomforest.score(X_test,y_test))"
      ]
    },
    {
      "cell_type": "markdown",
      "metadata": {
        "id": "XAsaJx4vumQX"
      },
      "source": [
        "Parameter combination set based on experience:"
      ]
    },
    {
      "cell_type": "code",
      "execution_count": 10,
      "metadata": {
        "id": "d-ussjEOumQX",
        "colab": {
          "base_uri": "https://localhost:8080/"
        },
        "outputId": "67b274a7-3f7b-48e7-d376-4148ed1093bf"
      },
      "outputs": [
        {
          "output_type": "stream",
          "name": "stdout",
          "text": [
            "Accuracy: 0.8191126279863481\n"
          ]
        }
      ],
      "source": [
        "clf_randomforest2 = RandomForestClassifier(n_estimators=20, criterion=\"entropy\",  max_depth=5, random_state=0)\n",
        "\n",
        "clf_randomforest2 = clf_randomforest2.fit(X_train, y_train.ravel())\n",
        "\n",
        "print(\"Accuracy:\", clf_randomforest2.score(X_test,y_test))\n",
        "\n"
      ]
    },
    {
      "cell_type": "markdown",
      "source": [
        "### **RandomizedSearchCV**"
      ],
      "metadata": {
        "id": "nGptf2mEjO7m"
      }
    },
    {
      "cell_type": "code",
      "execution_count": null,
      "metadata": {
        "id": "HvkWvoOPfRni"
      },
      "outputs": [],
      "source": [
        "# based on accuracy value\n",
        "\n",
        "clf = RandomForestClassifier(random_state=0)\n",
        "params = {\n",
        "    'n_estimators': [10, 20, 30, 40, 50, 100, 150, 200],\n",
        "    'criterion' :['entropy', 'gini'],\n",
        "    'max_depth': [2, 3, 4, 5, 6, 7],\n",
        "    'min_samples_split': range(2,10),\n",
        "    'min_samples_leaf': range(1,10)\n",
        "}\n",
        "\n",
        "randomsearch = RandomizedSearchCV(\n",
        "    estimator = clf,\n",
        "    param_distributions = params,\n",
        "    n_iter = 100,\n",
        "    scoring = 'accuracy',\n",
        "    verbose = 1\n",
        ")\n",
        "\n",
        "random_results = randomsearch.fit(X_train, y_train.ravel())\n",
        "print(random_results.best_params_)\n",
        "print(random_results.best_score_)\n",
        "\n"
      ]
    },
    {
      "cell_type": "markdown",
      "source": [
        "    *Note:* The code above was a RandomizedSearchCV search. A GridSearchCV search run with the same parameters takes approx. It runs for 55 minutes and returns with the following parameters:\n",
        "\n",
        "    {'criterion': 'entropy', 'max_depth': 7, 'min_samples_leaf': 3, 'min_samples_split': 7, 'n_estimators': 30}\n",
        "    0.8283862697621421"
      ],
      "metadata": {
        "id": "bbJG0mMvOnZx"
      }
    },
    {
      "cell_type": "markdown",
      "metadata": {
        "id": "UYlYO0XXfRni"
      },
      "source": [
        "Best models evaluation based on test :"
      ]
    },
    {
      "cell_type": "code",
      "execution_count": null,
      "metadata": {
        "id": "8b6pCiEnfRni"
      },
      "outputs": [],
      "source": [
        "y_test_pred_RS = random_results.best_estimator_.predict(X_test)\n",
        "print(\"Accuracy:\",accuracy_score(y_test, y_test_pred_RS))"
      ]
    },
    {
      "cell_type": "markdown",
      "source": [
        "### **BayesSearchCV**"
      ],
      "metadata": {
        "id": "uVG0w-LbEHHY"
      }
    },
    {
      "cell_type": "code",
      "source": [
        "# BayesSearchCV - runs for 10 min\n",
        "\n",
        "clf = RandomForestClassifier(random_state=0)\n",
        "\n",
        "params = {\n",
        "    'n_estimators': [10, 20, 30, 40, 50, 100, 150, 200],\n",
        "    'criterion': ['entropy', 'gini'],\n",
        "    'max_depth': [2, 3, 4, 5, 6, 7]\n",
        "}\n",
        "\n",
        "bayessearch = BayesSearchCV(\n",
        "    estimator=clf,\n",
        "    search_spaces=params,\n",
        "    n_iter=100,\n",
        "    cv=5,\n",
        "    scoring='accuracy',\n",
        "    verbose=1\n",
        ")\n",
        "\n",
        "bayes_results = bayessearch.fit(X_train, y_train.ravel())\n",
        "print(bayes_results.best_params_)\n",
        "print(bayes_results.best_score_)"
      ],
      "metadata": {
        "id": "E1otRBgEFP0G"
      },
      "execution_count": null,
      "outputs": []
    },
    {
      "cell_type": "code",
      "source": [
        "y_test_pred_BS = bayes_results.best_estimator_.predict(X_test)\n",
        "print(\"Accuracy :\",accuracy_score(y_test, y_test_pred_BS))"
      ],
      "metadata": {
        "id": "TFp4dHszNONk"
      },
      "execution_count": null,
      "outputs": []
    },
    {
      "cell_type": "markdown",
      "metadata": {
        "id": "dttbjHJiumQX"
      },
      "source": [
        "MLPClassifier"
      ]
    },
    {
      "cell_type": "code",
      "execution_count": 13,
      "metadata": {
        "id": "CTsU0XpmumQY",
        "colab": {
          "base_uri": "https://localhost:8080/",
          "height": 129
        },
        "outputId": "67eea48e-df42-401d-fa1e-d4e38dea50e1"
      },
      "outputs": [
        {
          "output_type": "stream",
          "name": "stderr",
          "text": [
            "/usr/local/lib/python3.10/dist-packages/sklearn/neural_network/_multilayer_perceptron.py:686: ConvergenceWarning: Stochastic Optimizer: Maximum iterations (200) reached and the optimization hasn't converged yet.\n",
            "  warnings.warn(\n"
          ]
        },
        {
          "output_type": "execute_result",
          "data": {
            "text/plain": [
              "MLPClassifier(random_state=0)"
            ],
            "text/html": [
              "<style>#sk-container-id-1 {color: black;background-color: white;}#sk-container-id-1 pre{padding: 0;}#sk-container-id-1 div.sk-toggleable {background-color: white;}#sk-container-id-1 label.sk-toggleable__label {cursor: pointer;display: block;width: 100%;margin-bottom: 0;padding: 0.3em;box-sizing: border-box;text-align: center;}#sk-container-id-1 label.sk-toggleable__label-arrow:before {content: \"▸\";float: left;margin-right: 0.25em;color: #696969;}#sk-container-id-1 label.sk-toggleable__label-arrow:hover:before {color: black;}#sk-container-id-1 div.sk-estimator:hover label.sk-toggleable__label-arrow:before {color: black;}#sk-container-id-1 div.sk-toggleable__content {max-height: 0;max-width: 0;overflow: hidden;text-align: left;background-color: #f0f8ff;}#sk-container-id-1 div.sk-toggleable__content pre {margin: 0.2em;color: black;border-radius: 0.25em;background-color: #f0f8ff;}#sk-container-id-1 input.sk-toggleable__control:checked~div.sk-toggleable__content {max-height: 200px;max-width: 100%;overflow: auto;}#sk-container-id-1 input.sk-toggleable__control:checked~label.sk-toggleable__label-arrow:before {content: \"▾\";}#sk-container-id-1 div.sk-estimator input.sk-toggleable__control:checked~label.sk-toggleable__label {background-color: #d4ebff;}#sk-container-id-1 div.sk-label input.sk-toggleable__control:checked~label.sk-toggleable__label {background-color: #d4ebff;}#sk-container-id-1 input.sk-hidden--visually {border: 0;clip: rect(1px 1px 1px 1px);clip: rect(1px, 1px, 1px, 1px);height: 1px;margin: -1px;overflow: hidden;padding: 0;position: absolute;width: 1px;}#sk-container-id-1 div.sk-estimator {font-family: monospace;background-color: #f0f8ff;border: 1px dotted black;border-radius: 0.25em;box-sizing: border-box;margin-bottom: 0.5em;}#sk-container-id-1 div.sk-estimator:hover {background-color: #d4ebff;}#sk-container-id-1 div.sk-parallel-item::after {content: \"\";width: 100%;border-bottom: 1px solid gray;flex-grow: 1;}#sk-container-id-1 div.sk-label:hover label.sk-toggleable__label {background-color: #d4ebff;}#sk-container-id-1 div.sk-serial::before {content: \"\";position: absolute;border-left: 1px solid gray;box-sizing: border-box;top: 0;bottom: 0;left: 50%;z-index: 0;}#sk-container-id-1 div.sk-serial {display: flex;flex-direction: column;align-items: center;background-color: white;padding-right: 0.2em;padding-left: 0.2em;position: relative;}#sk-container-id-1 div.sk-item {position: relative;z-index: 1;}#sk-container-id-1 div.sk-parallel {display: flex;align-items: stretch;justify-content: center;background-color: white;position: relative;}#sk-container-id-1 div.sk-item::before, #sk-container-id-1 div.sk-parallel-item::before {content: \"\";position: absolute;border-left: 1px solid gray;box-sizing: border-box;top: 0;bottom: 0;left: 50%;z-index: -1;}#sk-container-id-1 div.sk-parallel-item {display: flex;flex-direction: column;z-index: 1;position: relative;background-color: white;}#sk-container-id-1 div.sk-parallel-item:first-child::after {align-self: flex-end;width: 50%;}#sk-container-id-1 div.sk-parallel-item:last-child::after {align-self: flex-start;width: 50%;}#sk-container-id-1 div.sk-parallel-item:only-child::after {width: 0;}#sk-container-id-1 div.sk-dashed-wrapped {border: 1px dashed gray;margin: 0 0.4em 0.5em 0.4em;box-sizing: border-box;padding-bottom: 0.4em;background-color: white;}#sk-container-id-1 div.sk-label label {font-family: monospace;font-weight: bold;display: inline-block;line-height: 1.2em;}#sk-container-id-1 div.sk-label-container {text-align: center;}#sk-container-id-1 div.sk-container {/* jupyter's `normalize.less` sets `[hidden] { display: none; }` but bootstrap.min.css set `[hidden] { display: none !important; }` so we also need the `!important` here to be able to override the default hidden behavior on the sphinx rendered scikit-learn.org. See: https://github.com/scikit-learn/scikit-learn/issues/21755 */display: inline-block !important;position: relative;}#sk-container-id-1 div.sk-text-repr-fallback {display: none;}</style><div id=\"sk-container-id-1\" class=\"sk-top-container\"><div class=\"sk-text-repr-fallback\"><pre>MLPClassifier(random_state=0)</pre><b>In a Jupyter environment, please rerun this cell to show the HTML representation or trust the notebook. <br />On GitHub, the HTML representation is unable to render, please try loading this page with nbviewer.org.</b></div><div class=\"sk-container\" hidden><div class=\"sk-item\"><div class=\"sk-estimator sk-toggleable\"><input class=\"sk-toggleable__control sk-hidden--visually\" id=\"sk-estimator-id-1\" type=\"checkbox\" checked><label for=\"sk-estimator-id-1\" class=\"sk-toggleable__label sk-toggleable__label-arrow\">MLPClassifier</label><div class=\"sk-toggleable__content\"><pre>MLPClassifier(random_state=0)</pre></div></div></div></div></div>"
            ]
          },
          "metadata": {},
          "execution_count": 13
        }
      ],
      "source": [
        "\n",
        "clf_nn = MLPClassifier(random_state=0)\n",
        "clf_nn.fit(X_train, y_train.ravel())"
      ]
    },
    {
      "cell_type": "code",
      "execution_count": 14,
      "metadata": {
        "id": "ds4aPorgumQY",
        "scrolled": true,
        "colab": {
          "base_uri": "https://localhost:8080/"
        },
        "outputId": "90d1739a-6e6d-47b0-be1e-c32a3a14d30a"
      },
      "outputs": [
        {
          "output_type": "stream",
          "name": "stdout",
          "text": [
            "F1 score:  0.7230046948356806\n",
            "Accuracy score:  0.7986348122866894\n",
            "AUC: 0.776819075712881\n"
          ]
        }
      ],
      "source": [
        "y_pred_nn = clf_nn.predict(X_test)\n",
        "\n",
        "print('F1 score: ', f1_score(y_true=y_test, y_pred=y_pred_nn))\n",
        "print('Accuracy score: ', str(clf_nn.score(X_test,y_test)))\n",
        "print('AUC:', roc_auc_score(y_true=y_test, y_score=y_pred_nn))"
      ]
    },
    {
      "cell_type": "markdown",
      "metadata": {
        "id": "_1v908LOumQd"
      },
      "source": [
        "### **RandomizedSearchCV**:"
      ]
    },
    {
      "cell_type": "code",
      "execution_count": 15,
      "metadata": {
        "id": "NGfbp1ohumQd",
        "colab": {
          "base_uri": "https://localhost:8080/"
        },
        "outputId": "98faf84f-a38d-471c-f5d3-eb0fdae124a5"
      },
      "outputs": [
        {
          "output_type": "stream",
          "name": "stdout",
          "text": [
            "{'solver': 'lbfgs', 'random_state': 0, 'max_iter': 10000, 'hidden_layer_sizes': (4,), 'alpha': 0.001, 'activation': 'logistic'}\n",
            "0.8299672411337415\n"
          ]
        }
      ],
      "source": [
        "\n",
        "\n",
        "clf = MLPClassifier(hidden_layer_sizes=(4), random_state=0)\n",
        "params = {\n",
        "    'activation': ['tanh', 'relu', 'logistic'],\n",
        "    'hidden_layer_sizes' :[(2,), (3,), (4,), (5,)],\n",
        "    'solver': ['lbfgs', 'sgd'],\n",
        "    'max_iter': [50, 100, 500, 1000, 2000, 5000, 10000],\n",
        "    'alpha': [0.0001, 0.001, 0.01],\n",
        "    'random_state': [0]\n",
        "}\n",
        "\n",
        "randomsearch_nn = RandomizedSearchCV(\n",
        "    estimator = clf,\n",
        "    param_distributions = params,\n",
        "    n_iter = 100,\n",
        "    scoring = 'accuracy',\n",
        "    n_jobs = -1,\n",
        "    verbose = 0\n",
        ")\n",
        "\n",
        "random_results_nn = randomsearch_nn.fit(X_train, y_train.ravel())\n",
        "print(random_results_nn.best_params_)\n",
        "print(random_results_nn.best_score_)"
      ]
    },
    {
      "cell_type": "markdown",
      "metadata": {
        "id": "FeMalLdffRnk"
      },
      "source": [
        "Evaluation of the best, on the train set:"
      ]
    },
    {
      "cell_type": "code",
      "execution_count": 16,
      "metadata": {
        "id": "Zkm2c0PSfRnk",
        "colab": {
          "base_uri": "https://localhost:8080/"
        },
        "outputId": "837c59b3-b758-4900-c44a-93734a339cdc"
      },
      "outputs": [
        {
          "output_type": "stream",
          "name": "stdout",
          "text": [
            "Accuracy: 0.7781569965870307\n"
          ]
        }
      ],
      "source": [
        "y_test_pred_RS_nn = random_results_nn.best_estimator_.predict(X_test)\n",
        "print(\"Accuracy:\",accuracy_score(y_test, y_test_pred_RS_nn))"
      ]
    },
    {
      "cell_type": "markdown",
      "source": [
        "Based on AUC:\n",
        "\n"
      ],
      "metadata": {
        "id": "cNhfH45zmq8u"
      }
    },
    {
      "cell_type": "code",
      "execution_count": 17,
      "metadata": {
        "id": "1mKFcN_iumQe",
        "scrolled": true,
        "colab": {
          "base_uri": "https://localhost:8080/"
        },
        "outputId": "632396e1-0341-4d2f-fca1-5916c256653a"
      },
      "outputs": [
        {
          "output_type": "stream",
          "name": "stdout",
          "text": [
            "{'solver': 'lbfgs', 'random_state': 0, 'max_iter': 500, 'hidden_layer_sizes': (4,), 'alpha': 0.01, 'activation': 'logistic'}\n",
            "0.8761524717093507\n"
          ]
        },
        {
          "output_type": "stream",
          "name": "stderr",
          "text": [
            "/usr/local/lib/python3.10/dist-packages/sklearn/neural_network/_multilayer_perceptron.py:541: ConvergenceWarning: lbfgs failed to converge (status=1):\n",
            "STOP: TOTAL NO. of ITERATIONS REACHED LIMIT.\n",
            "\n",
            "Increase the number of iterations (max_iter) or scale the data as shown in:\n",
            "    https://scikit-learn.org/stable/modules/preprocessing.html\n",
            "  self.n_iter_ = _check_optimize_result(\"lbfgs\", opt_res, self.max_iter)\n"
          ]
        }
      ],
      "source": [
        "\n",
        "\n",
        "clf = MLPClassifier(hidden_layer_sizes=(4))\n",
        "params = {\n",
        "    'activation': ['tanh', 'relu', 'logistic'],\n",
        "    'hidden_layer_sizes' :[(2,), (3,), (4,), (5,)],\n",
        "    'solver': ['lbfgs', 'sgd'],\n",
        "    'max_iter': [50, 100, 500, 1000, 2000, 5000, 10000],\n",
        "    'alpha': [0.0001, 0.001, 0.01],\n",
        "    'random_state': [0]\n",
        "}\n",
        "\n",
        "randomsearch_nn2 = RandomizedSearchCV(\n",
        "    estimator = clf,\n",
        "    param_distributions = params,\n",
        "    n_iter = 100,\n",
        "    scoring = 'roc_auc',\n",
        "    n_jobs = -1,\n",
        "    verbose = 0\n",
        ")\n",
        "\n",
        "random_results_nn2 = randomsearch_nn2.fit(X_train, y_train.ravel())\n",
        "print(random_results_nn2.best_params_)\n",
        "print(random_results_nn2.best_score_)\n"
      ]
    },
    {
      "cell_type": "code",
      "execution_count": 18,
      "metadata": {
        "id": "z7O07R8efRnl",
        "colab": {
          "base_uri": "https://localhost:8080/"
        },
        "outputId": "b965d0e0-0177-4d56-b8a7-f12b01f6bda0"
      },
      "outputs": [
        {
          "output_type": "stream",
          "name": "stdout",
          "text": [
            "AUC: 0.7487217305801377\n",
            "Accuracy: 0.78839590443686\n"
          ]
        }
      ],
      "source": [
        "y_test_pred_RS_nn2 = random_results_nn2.best_estimator_.predict(X_test)\n",
        "print('AUC:', roc_auc_score(y_true=y_test, y_score=y_test_pred_RS_nn2))\n",
        "print(\"Accuracy:\",accuracy_score(y_test, y_test_pred_RS_nn2))"
      ]
    }
  ],
  "metadata": {
    "colab": {
      "provenance": []
    },
    "kernelspec": {
      "display_name": "Python 3 (ipykernel)",
      "language": "python",
      "name": "python3"
    },
    "language_info": {
      "codemirror_mode": {
        "name": "ipython",
        "version": 3
      },
      "file_extension": ".py",
      "mimetype": "text/x-python",
      "name": "python",
      "nbconvert_exporter": "python",
      "pygments_lexer": "ipython3",
      "version": "3.8.8"
    }
  },
  "nbformat": 4,
  "nbformat_minor": 0
}