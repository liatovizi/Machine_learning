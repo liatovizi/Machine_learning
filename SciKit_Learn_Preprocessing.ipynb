{
  "nbformat": 4,
  "nbformat_minor": 0,
  "metadata": {
    "colab": {
      "provenance": []
    },
    "kernelspec": {
      "name": "python3",
      "display_name": "Python 3"
    },
    "language_info": {
      "name": "python"
    }
  },
  "cells": [
    {
      "cell_type": "markdown",
      "source": [
        "**Data reading and preparation**"
      ],
      "metadata": {
        "id": "_obc1S6Pi46E"
      }
    },
    {
      "cell_type": "markdown",
      "source": [
        "Let's read the fictitious_szemely2.csv data file and the necessary python packages! Discard the id column from the scanned data!"
      ],
      "metadata": {
        "id": "n7BAFH5ei_UF"
      }
    },
    {
      "cell_type": "code",
      "source": [
        "from sklearn import preprocessing as skp\n",
        "import numpy as np\n",
        "import pandas as pd\n",
        "\n",
        "szem = pd.read_csv('/content/drive/MyDrive/Colab Notebooks/1_KorszDM_I/1_DSalapok/fiktiv_szemely2.csv', sep=';', header=0)\n",
        "szem.drop('id', axis= 1, inplace = True)\n",
        "szem"
      ],
      "metadata": {
        "id": "_IUviiETjGrZ"
      },
      "execution_count": null,
      "outputs": []
    },
    {
      "cell_type": "markdown",
      "source": [
        "Since the string type values in the Smoking column would cause problems during the preparation, we will recode it into 1 dummy column that stores information on whether the person smokes (0: no; 1: yes)."
      ],
      "metadata": {
        "id": "xfCggozdjPBr"
      }
    },
    {
      "cell_type": "code",
      "source": [
        "szem = pd.get_dummies(szem, columns=['smoking'], drop_first=False)\n",
        "szem = szem.drop(['smoking_No'], axis=1)\n",
        "szem"
      ],
      "metadata": {
        "id": "3kr5G8gHj8k_"
      },
      "execution_count": null,
      "outputs": []
    },
    {
      "cell_type": "code",
      "source": [
        "szem2 = szem.copy()"
      ],
      "metadata": {
        "id": "84s8SCzhkK_X"
      },
      "execution_count": null,
      "outputs": []
    },
    {
      "cell_type": "markdown",
      "source": [
        "2. Filling empty data"
      ],
      "metadata": {
        "id": "2gQOAPsnkQKh"
      }
    },
    {
      "cell_type": "markdown",
      "source": [
        "Let's see where continuous value attributes do not contain data! Let's write out their index and then these data lines as well!"
      ],
      "metadata": {
        "id": "aq7dYBfEkib5"
      }
    },
    {
      "cell_type": "code",
      "source": [
        "missing_weight_idx = szem[szem['weight'].isnull()].index.tolist()\n",
        "missing_height_idx = szem[szem['height'].isnull()].index.tolist()\n",
        "missing_age_idx = szem[szem['age'].isnull()].index.tolist()\n",
        "\n",
        "print ('Weight missing: ', missing_weight_idx)\n",
        "print ('Height missing: ', missing_height_idx)\n",
        "print ('Age missing: ', missing_age_idx)\n",
        "\n",
        "print('\\n')\n",
        "print(szem.iloc[missing_weight_idx], '\\n')\n",
        "print(szem.iloc[missing_height_idx], '\\n')\n",
        "print(szem.iloc[missing_age_idx], '\\n')"
      ],
      "metadata": {
        "id": "Bo2Yx77-knMw"
      },
      "execution_count": null,
      "outputs": []
    },
    {
      "cell_type": "markdown",
      "source": [
        "Filling in the missing body weight values with the average value:"
      ],
      "metadata": {
        "id": "MTF2zfkvkqqS"
      }
    },
    {
      "cell_type": "code",
      "source": [
        "from sklearn.impute import SimpleImputer\n",
        "\n",
        "imp_weight = SimpleImputer(missing_values=np.nan, strategy='mean')\n",
        "szem['weight'] = imp_weight.fit_transform(szem[['weight']]).ravel()\n",
        "\n",
        "szem.iloc[missing_weight_idx]"
      ],
      "metadata": {
        "id": "uoMwCvqak0Sp"
      },
      "execution_count": null,
      "outputs": []
    },
    {
      "cell_type": "markdown",
      "source": [
        "Filling in the missing body heights with the median value:"
      ],
      "metadata": {
        "id": "h7csNIeXk3v3"
      }
    },
    {
      "cell_type": "code",
      "source": [
        "imp_height = SimpleImputer(missing_values=np.nan, strategy='median')\n",
        "szem['height'] = imp_height.fit_transform(szem[['height']]).ravel()\n",
        "\n",
        "szem.iloc[missing_height_idx]"
      ],
      "metadata": {
        "id": "imEqMUEOk-oq"
      },
      "execution_count": null,
      "outputs": []
    },
    {
      "cell_type": "markdown",
      "source": [
        "Imputing missing ages based on a model using IterativeImputer"
      ],
      "metadata": {
        "id": "2RA9yvCdlExg"
      }
    },
    {
      "cell_type": "code",
      "source": [
        "from sklearn.experimental import enable_iterative_imputer\n",
        "from sklearn.impute import IterativeImputer\n",
        "\n",
        "# Imputation of missing values from the 'age' column with IterativeImputer\n",
        "imputer = IterativeImputer(max_iter=10)\n",
        "szem['age'] = imputer.fit_transform(szem[['age']])\n",
        "\n",
        "# List rows with missing values\n",
        "szem.iloc[missing_age_idx]"
      ],
      "metadata": {
        "id": "m7qD5CoblKs7"
      },
      "execution_count": null,
      "outputs": []
    },
    {
      "cell_type": "markdown",
      "source": [
        "Since we have already replaced all missing values, let's work on the eye2 dataframe and fill in the missing ages using KNNImputer!"
      ],
      "metadata": {
        "id": "8_1Q2c8ylOE8"
      }
    },
    {
      "cell_type": "code",
      "source": [
        "from sklearn.impute import KNNImputer\n",
        "\n",
        "# Create KNNImputer and fill in the 'age' column\n",
        "imp_age2 = KNNImputer(n_neighbors=5)\n",
        "szem2[['age']] = imp_age2.fit_transform(szem2[['age']])\n",
        "\n",
        "# List rows with missing values\n",
        "szem2.iloc[missing_age_idx]"
      ],
      "metadata": {
        "id": "vQ4kcxwllU5s"
      },
      "execution_count": null,
      "outputs": []
    },
    {
      "cell_type": "markdown",
      "source": [
        "**3. Feature scaling**"
      ],
      "metadata": {
        "id": "liAjNfA0lYSJ"
      }
    },
    {
      "cell_type": "code",
      "source": [
        "scaler=skp.MinMaxScaler(feature_range=(0,1))\n",
        "szem_scaled=scaler.fit_transform(szem)\n",
        "szem_scaled = pd.DataFrame(szem_scaled, columns=szem.columns)\n",
        "\n",
        "print(\"Original dataset:\\n\",szem)\n",
        "print(\"\\n Min-Max scaled dataset:\\n\",szem_scaled)"
      ],
      "metadata": {
        "id": "tvXZG8Wflfa6"
      },
      "execution_count": null,
      "outputs": []
    },
    {
      "cell_type": "markdown",
      "source": [
        "Standardization (z-score normalization)"
      ],
      "metadata": {
        "id": "DwlSKb9qlp18"
      }
    },
    {
      "cell_type": "code",
      "source": [
        "szem = pd.read_csv('/content/drive/MyDrive/Colab Notebooks/1_KorszDM_I/1_DSalapok/fiktiv_szemely2.csv', sep=';', header=0)\n",
        "szem.drop('id', axis= 1, inplace = True)\n",
        "szem = pd.get_dummies(szem, columns=['smoking'], drop_first=False)\n",
        "szem = szem.drop(['smoking_No'], axis=1)\n",
        "\n",
        "# Z-score normalization\n",
        "szem_standard= pd.DataFrame(skp.StandardScaler().fit_transform(szem), columns=szem.columns)\n",
        "\n",
        "print(\"Original dataset:\\n\",szem)\n",
        "print(\"\\n Z-score normal dataset: \\n\",szem_standard)"
      ],
      "metadata": {
        "id": "tkI8TpV6lrep"
      },
      "execution_count": null,
      "outputs": []
    },
    {
      "cell_type": "markdown",
      "source": [
        "L-norm"
      ],
      "metadata": {
        "id": "xTZym4Vjl4U-"
      }
    },
    {
      "cell_type": "code",
      "source": [
        "szem = pd.read_csv('/content/drive/MyDrive/Colab Notebooks/1_KorszDM_I/1_DSalapok/fiktiv_szemely2.csv', sep=';', header=0)\n",
        "szem.drop('id', axis= 1, inplace = True)\n",
        "szem = pd.get_dummies(szem, columns=['smoking'], drop_first=False)\n",
        "szem = szem.drop(['smoking_No'], axis=1)\n",
        "\n",
        "\n",
        "from sklearn.experimental import enable_iterative_imputer\n",
        "from sklearn.impute import IterativeImputer\n",
        "\n",
        "imp = IterativeImputer(max_iter=10)\n",
        "szem_imputed = imp.fit_transform(szem)\n",
        "szem_imputed = pd.DataFrame(szem_imputed, columns=szem.columns)\n",
        "szem_imputed.info()\n",
        "\n",
        "#L1 normalization\n",
        "szem_imputed_l1 = skp.normalize(szem_imputed, norm=\"l1\")\n",
        "szem_imputed_l1 = pd.DataFrame(szem_imputed_l1, columns=szem.columns)\n",
        "\n",
        "print(\"Original dataset:\\n\",szem_imputed)\n",
        "print(\"\\n L1 normal dataset:\\n\",szem_imputed_l1)\n",
        "\n",
        "#L2 normalization\n",
        "szem_imputed_l2 = skp.normalize(szem_imputed, norm=\"l2\")\n",
        "szem_imputed_l2 = pd.DataFrame(szem_imputed_l2, columns=szem.columns)\n",
        "\n",
        "print(\"Original dataset:\\n\",szem_imputed)\n",
        "print(\"\\n L2 normal dataset:\\n\",szem_imputed_l2)"
      ],
      "metadata": {
        "id": "wEUMc7gSl9Oj"
      },
      "execution_count": null,
      "outputs": []
    },
    {
      "cell_type": "markdown",
      "source": [
        "Binarization"
      ],
      "metadata": {
        "id": "6qeUicbPmIlg"
      }
    },
    {
      "cell_type": "code",
      "source": [
        "from sklearn.experimental import enable_iterative_imputer\n",
        "from sklearn.impute import IterativeImputer\n",
        "\n",
        "szem = pd.read_csv('/content/drive/MyDrive/Colab Notebooks/1_KorszDM_I/1_DSalapok/fiktiv_szemely2.csv', sep=';', header=0)\n",
        "szem.drop('id', axis= 1, inplace = True)\n",
        "szem = pd.get_dummies(szem, columns=['smoking'], drop_first=False)\n",
        "szem = szem.drop(['smoking_No'], axis=1)\n",
        "\n",
        "\n",
        "imp = IterativeImputer(max_iter=20)\n",
        "szem_ = imp.fit_transform(szem)\n",
        "\n"
      ],
      "metadata": {
        "id": "uQfykIP8mKVj"
      },
      "execution_count": null,
      "outputs": []
    },
    {
      "cell_type": "code",
      "source": [
        "from sklearn.preprocessing import Binarizer\n",
        "\n",
        "binarizer = Binarizer(threshold=180)\n",
        "\n",
        "height = np.array(szem_imputed['height'])\n",
        "height_binarized = binarizer.fit_transform(height.reshape(1,-1))\n",
        "\n",
        "szem['height_binarized'] = height_binarized.reshape(-1,1).astype(int)\n",
        "\n",
        "szem"
      ],
      "metadata": {
        "id": "RAVZooVJmU6C"
      },
      "execution_count": null,
      "outputs": []
    },
    {
      "cell_type": "code",
      "source": [
        "#or\n",
        "szem['height_binarized_v2'] = (szem['height'] > 180).astype(int)\n",
        "szem"
      ],
      "metadata": {
        "id": "DT3500romZ04"
      },
      "execution_count": null,
      "outputs": []
    }
  ]
}